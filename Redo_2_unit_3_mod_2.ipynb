{
  "nbformat": 4,
  "nbformat_minor": 0,
  "metadata": {
    "colab": {
      "name": "Redo_2_unit_3_mod_2",
      "provenance": [],
      "collapsed_sections": [],
      "include_colab_link": true
    },
    "kernelspec": {
      "name": "python3",
      "display_name": "Python 3"
    }
  },
  "cells": [
    {
      "cell_type": "markdown",
      "metadata": {
        "id": "view-in-github",
        "colab_type": "text"
      },
      "source": [
        "<a href=\"https://colab.research.google.com/github/jgrxnde97/DS-Unit-3-Sprint-1-Software-Engineering/blob/master/Redo_2_unit_3_mod_2.ipynb\" target=\"_parent\"><img src=\"https://colab.research.google.com/assets/colab-badge.svg\" alt=\"Open In Colab\"/></a>"
      ]
    },
    {
      "cell_type": "code",
      "metadata": {
        "id": "eO6GG6WJLCXT",
        "colab_type": "code",
        "colab": {
          "base_uri": "https://localhost:8080/",
          "height": 258
        },
        "outputId": "6e2e6cc8-5842-42d9-c15a-288353024cf4"
      },
      "source": [
        "!pip install -i https://test.pypi.org/simple/ lambdata-jgrxnde9701==0.1.7"
      ],
      "execution_count": 5,
      "outputs": [
        {
          "output_type": "stream",
          "text": [
            "Looking in indexes: https://test.pypi.org/simple/\n",
            "Collecting lambdata-jgrxnde9701==0.1.7\n",
            "  Downloading https://test-files.pythonhosted.org/packages/eb/2f/8804d10cab5dca209dcd6379f995da9540f5bcac23aa1abf6591b0b65552/lambdata_jgrxnde9701-0.1.7-py3-none-any.whl\n",
            "Requirement already satisfied: numpy in /usr/local/lib/python3.6/dist-packages (from lambdata-jgrxnde9701==0.1.7) (1.17.4)\n",
            "Requirement already satisfied: pandas in /usr/local/lib/python3.6/dist-packages (from lambdata-jgrxnde9701==0.1.7) (0.25.3)\n",
            "Requirement already satisfied: python-dateutil>=2.6.1 in /usr/local/lib/python3.6/dist-packages (from pandas->lambdata-jgrxnde9701==0.1.7) (2.6.1)\n",
            "Requirement already satisfied: pytz>=2017.2 in /usr/local/lib/python3.6/dist-packages (from pandas->lambdata-jgrxnde9701==0.1.7) (2018.9)\n",
            "Requirement already satisfied: six>=1.5 in /usr/local/lib/python3.6/dist-packages (from python-dateutil>=2.6.1->pandas->lambdata-jgrxnde9701==0.1.7) (1.12.0)\n",
            "Installing collected packages: lambdata-jgrxnde9701\n",
            "  Found existing installation: lambdata-jgrxnde9701 0.1.5\n",
            "    Uninstalling lambdata-jgrxnde9701-0.1.5:\n",
            "      Successfully uninstalled lambdata-jgrxnde9701-0.1.5\n",
            "Successfully installed lambdata-jgrxnde9701-0.1.7\n"
          ],
          "name": "stdout"
        }
      ]
    },
    {
      "cell_type": "code",
      "metadata": {
        "id": "GPoftzzNLKfR",
        "colab_type": "code",
        "colab": {}
      },
      "source": [
        "# code\n",
        "from lambdata_jgrxnde9701 import CleanData\n",
        "from lambdata_jgrxnde9701 import df_utils"
      ],
      "execution_count": 0,
      "outputs": []
    },
    {
      "cell_type": "code",
      "metadata": {
        "id": "r5i6CPcwLXOK",
        "colab_type": "code",
        "colab": {
          "base_uri": "https://localhost:8080/",
          "height": 34
        },
        "outputId": "e5e8a825-92cd-4232-b6b5-71b86e3964d7"
      },
      "source": [
        "df_utils.df_ran.shape"
      ],
      "execution_count": 7,
      "outputs": [
        {
          "output_type": "execute_result",
          "data": {
            "text/plain": [
              "(200, 5)"
            ]
          },
          "metadata": {
            "tags": []
          },
          "execution_count": 7
        }
      ]
    },
    {
      "cell_type": "code",
      "metadata": {
        "id": "OcVdRW3zLWz_",
        "colab_type": "code",
        "colab": {
          "base_uri": "https://localhost:8080/",
          "height": 34
        },
        "outputId": "1a48dd3d-e628-45bf-ea79-832bab349ed2"
      },
      "source": [
        "# checking for any null vals in data\n",
        "clean_data = CleanData(df_utils.df_ran)\n",
        "clean_data.check_nulls()"
      ],
      "execution_count": 8,
      "outputs": [
        {
          "output_type": "execute_result",
          "data": {
            "text/plain": [
              "0"
            ]
          },
          "metadata": {
            "tags": []
          },
          "execution_count": 8
        }
      ]
    },
    {
      "cell_type": "code",
      "metadata": {
        "id": "pMw-KMh9LlrU",
        "colab_type": "code",
        "colab": {
          "base_uri": "https://localhost:8080/",
          "height": 238
        },
        "outputId": "85de8b54-ae2a-48d1-91ac-d781f3041915"
      },
      "source": [
        "clean_data.ran_bag(df_utils.df_ran[0], 200)"
      ],
      "execution_count": 9,
      "outputs": [
        {
          "output_type": "execute_result",
          "data": {
            "text/plain": [
              "0       64\n",
              "1      139\n",
              "2       36\n",
              "3      185\n",
              "4       49\n",
              "      ... \n",
              "195     18\n",
              "196    144\n",
              "197    172\n",
              "198     67\n",
              "199     88\n",
              "Name: 0, Length: 200, dtype: category\n",
              "Categories (200, int64): [1 < 2 < 3 < 4 ... 197 < 198 < 199 < 200]"
            ]
          },
          "metadata": {
            "tags": []
          },
          "execution_count": 9
        }
      ]
    }
  ]
}